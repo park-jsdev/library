{
  "nbformat": 4,
  "nbformat_minor": 0,
  "metadata": {
    "colab": {
      "provenance": []
    },
    "kernelspec": {
      "name": "python3",
      "display_name": "Python 3"
    },
    "language_info": {
      "name": "python"
    }
  },
  "cells": [
    {
      "cell_type": "code",
      "execution_count": null,
      "metadata": {
        "id": "HjR-6EmNBgik"
      },
      "outputs": [],
      "source": [
        "!pip install gradio\n",
        "!pip install fastai\n",
        "from fastai.vision.all import *\n",
        "import gradio as gr"
      ]
    },
    {
      "cell_type": "code",
      "source": [
        "from fastai.learner import load_learner\n",
        "learn = load_learner('model.pkl')"
      ],
      "metadata": {
        "id": "NDYv5lqwBpYO"
      },
      "execution_count": 13,
      "outputs": []
    },
    {
      "cell_type": "code",
      "source": [
        "def predict(uploaded_image):\n",
        "    try:\n",
        "        img = PILImage.create(uploaded_image)\n",
        "        pred, pred_idx, probs = learn.predict(img)\n",
        "\n",
        "        # Get the original labels from the learner's vocabulary\n",
        "        labels = learn.dls.vocab\n",
        "\n",
        "        # Map the original labels to more descriptive labels\n",
        "        label_map = {'lung_n': 'Normal', 'lung_aca': 'Adenocarcinoma'}\n",
        "        descriptive_labels = [label_map[label] for label in labels]\n",
        "\n",
        "        return {descriptive_labels[i]: float(probs[i]) for i in range(len(labels))}\n",
        "    except Exception as e:\n",
        "        return {\"error\": str(e)}\n",
        "\n",
        "title = \"Lung Cancer Histopathology Classifier\"\n",
        "description = \"A lung cancer histopathology classifier ResNet 34 model trained on the Lung and Colon Cancer Histopathological Images dataset on Kaggle with fastai. Uses Gradio as the interface.\"\n",
        "article = \"<p style='text-align: center'><a href='https://www.kaggle.com/datasets/andrewmvd/lung-and-colon-cancer-histopathological-images' target='_blank'>Dataset</a></p>\"\n",
        "\n",
        "interface = gr.Interface(\n",
        "    fn=predict,\n",
        "    inputs=gr.Image(type=\"pil\"),\n",
        "    outputs=gr.Label(num_top_classes=2),\n",
        "    title=title,\n",
        "    description=description,\n",
        "    article=article\n",
        ").launch()\n"
      ],
      "metadata": {
        "colab": {
          "base_uri": "https://localhost:8080/",
          "height": 626
        },
        "id": "kADYOIzfBuB8",
        "outputId": "f304d5f2-5c5b-4919-f039-6956ccd4b792"
      },
      "execution_count": 14,
      "outputs": [
        {
          "output_type": "stream",
          "name": "stdout",
          "text": [
            "Setting queue=True in a Colab notebook requires sharing enabled. Setting `share=True` (you can turn this off by setting `share=False` in `launch()` explicitly).\n",
            "\n",
            "Colab notebook detected. To show errors in colab notebook, set debug=True in launch()\n",
            "Running on public URL: https://a2211b7db410625491.gradio.live\n",
            "\n",
            "This share link expires in 72 hours. For free permanent hosting and GPU upgrades, run `gradio deploy` from Terminal to deploy to Spaces (https://huggingface.co/spaces)\n"
          ]
        },
        {
          "output_type": "display_data",
          "data": {
            "text/plain": [
              "<IPython.core.display.HTML object>"
            ],
            "text/html": [
              "<div><iframe src=\"https://a2211b7db410625491.gradio.live\" width=\"100%\" height=\"500\" allow=\"autoplay; camera; microphone; clipboard-read; clipboard-write;\" frameborder=\"0\" allowfullscreen></iframe></div>"
            ]
          },
          "metadata": {}
        }
      ]
    },
    {
      "cell_type": "code",
      "source": [],
      "metadata": {
        "id": "vHYn0rfgF5_2"
      },
      "execution_count": null,
      "outputs": []
    }
  ]
}